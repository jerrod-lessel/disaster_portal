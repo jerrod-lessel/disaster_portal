{
 "cells": [
  {
   "cell_type": "code",
   "execution_count": 3,
   "id": "689ad04d-2b71-4fbf-9540-e410e8027bf5",
   "metadata": {
    "tags": []
   },
   "outputs": [],
   "source": [
    "import os\n",
    "import ee\n",
    "import geemap"
   ]
  },
  {
   "cell_type": "code",
   "execution_count": 15,
   "id": "8856d271-6285-41b3-9dca-cbe5bb44a457",
   "metadata": {
    "tags": []
   },
   "outputs": [
    {
     "data": {
      "text/html": [
       "\n",
       "            <style>\n",
       "                .geemap-dark {\n",
       "                    --jp-widgets-color: white;\n",
       "                    --jp-widgets-label-color: white;\n",
       "                    --jp-ui-font-color1: white;\n",
       "                    --jp-layout-color2: #454545;\n",
       "                    background-color: #383838;\n",
       "                }\n",
       "\n",
       "                .geemap-dark .jupyter-button {\n",
       "                    --jp-layout-color3: #383838;\n",
       "                }\n",
       "\n",
       "                .geemap-colab {\n",
       "                    background-color: var(--colab-primary-surface-color, white);\n",
       "                }\n",
       "\n",
       "                .geemap-colab .jupyter-button {\n",
       "                    --jp-layout-color3: var(--colab-primary-surface-color, white);\n",
       "                }\n",
       "            </style>\n",
       "            "
      ],
      "text/plain": [
       "<IPython.core.display.HTML object>"
      ]
     },
     "metadata": {},
     "output_type": "display_data"
    },
    {
     "data": {
      "application/vnd.jupyter.widget-view+json": {
       "model_id": "397578862c2b4b75b879ed663bc9bb23",
       "version_major": 2,
       "version_minor": 0
      },
      "text/plain": [
       "Map(center=[40, -100], controls=(WidgetControl(options=['position', 'transparent_bg'], widget=SearchDataGUI(ch…"
      ]
     },
     "metadata": {},
     "output_type": "display_data"
    }
   ],
   "source": [
    "map = geemap.Map(center=(40,-100),zoom=4)\n",
    "#map.basemap() #if you put the cursor in between the paranthesis and hit Shift + Tab you can see the available arguments and options\n",
    "map"
   ]
  },
  {
   "cell_type": "code",
   "execution_count": 31,
   "id": "f2f66219-a2fb-4b82-9197-7980849dc101",
   "metadata": {
    "tags": []
   },
   "outputs": [
    {
     "data": {
      "text/html": [
       "\n",
       "            <style>\n",
       "                .geemap-dark {\n",
       "                    --jp-widgets-color: white;\n",
       "                    --jp-widgets-label-color: white;\n",
       "                    --jp-ui-font-color1: white;\n",
       "                    --jp-layout-color2: #454545;\n",
       "                    background-color: #383838;\n",
       "                }\n",
       "\n",
       "                .geemap-dark .jupyter-button {\n",
       "                    --jp-layout-color3: #383838;\n",
       "                }\n",
       "\n",
       "                .geemap-colab {\n",
       "                    background-color: var(--colab-primary-surface-color, white);\n",
       "                }\n",
       "\n",
       "                .geemap-colab .jupyter-button {\n",
       "                    --jp-layout-color3: var(--colab-primary-surface-color, white);\n",
       "                }\n",
       "            </style>\n",
       "            "
      ],
      "text/plain": [
       "<IPython.core.display.HTML object>"
      ]
     },
     "metadata": {},
     "output_type": "display_data"
    }
   ],
   "source": [
    "collection = ee.ImageCollection('LANDSAT/LC09/C02/T1_L2').filterDate('2023-07-01', '2023-07-31')\n",
    "#print(collection.size().getInfo())"
   ]
  },
  {
   "cell_type": "code",
   "execution_count": 33,
   "id": "c7e42a41-f12c-47c0-8a76-80c2d897a79a",
   "metadata": {
    "tags": []
   },
   "outputs": [
    {
     "data": {
      "text/html": [
       "\n",
       "            <style>\n",
       "                .geemap-dark {\n",
       "                    --jp-widgets-color: white;\n",
       "                    --jp-widgets-label-color: white;\n",
       "                    --jp-ui-font-color1: white;\n",
       "                    --jp-layout-color2: #454545;\n",
       "                    background-color: #383838;\n",
       "                }\n",
       "\n",
       "                .geemap-dark .jupyter-button {\n",
       "                    --jp-layout-color3: #383838;\n",
       "                }\n",
       "\n",
       "                .geemap-colab {\n",
       "                    background-color: var(--colab-primary-surface-color, white);\n",
       "                }\n",
       "\n",
       "                .geemap-colab .jupyter-button {\n",
       "                    --jp-layout-color3: var(--colab-primary-surface-color, white);\n",
       "                }\n",
       "            </style>\n",
       "            "
      ],
      "text/plain": [
       "<IPython.core.display.HTML object>"
      ]
     },
     "metadata": {},
     "output_type": "display_data"
    },
    {
     "data": {
      "application/vnd.jupyter.widget-view+json": {
       "model_id": "b2ea13df7dc44c9eba970c08060d447b",
       "version_major": 2,
       "version_minor": 0
      },
      "text/plain": [
       "Map(center=[40, -100], controls=(WidgetControl(options=['position', 'transparent_bg'], widget=SearchDataGUI(ch…"
      ]
     },
     "metadata": {},
     "output_type": "display_data"
    }
   ],
   "source": [
    "map1 = geemap.Map(center=(40,-100),zoom=4)\n",
    "median = collection.median()\n",
    "\n",
    "def apply_scale_factor(image):\n",
    "    opticalBands = image.select('SR_B.*').multiply(0.0000275).add(-0.2) # The * acts as a wildcard for after the text that is written\n",
    "    thermalBands = image.select('ST_B.*').multiply(0.00341802).add(149.0)\n",
    "    return image.addBands(opticalBands,None,True).addBands(thermalBands,None,True)\n",
    "\n",
    "dataset = apply_scale_factor(median)\n",
    "\n",
    "vis_natural = {\n",
    "    'bands':['SR_B4','SR_B3','SR_B2'],\n",
    "    'min':0.0,\n",
    "    'max':0.3,\n",
    "}\n",
    "\n",
    "vis_nir = {\n",
    "    'bands':['SR_B5','SR_B4','SR_B3'],\n",
    "    'min':0.0,\n",
    "    'max':0.3,\n",
    "}\n",
    "\n",
    "map1.addLayer(dataset,vis_natural,'True Color (432)')\n",
    "map1.addLayer(dataset,vis_nir,'Color Infrared (543)')\n",
    "map1"
   ]
  },
  {
   "cell_type": "code",
   "execution_count": 39,
   "id": "781579a5-6c5b-4f71-aaf7-d3e7a6b47433",
   "metadata": {
    "tags": []
   },
   "outputs": [
    {
     "data": {
      "text/html": [
       "\n",
       "            <style>\n",
       "                .geemap-dark {\n",
       "                    --jp-widgets-color: white;\n",
       "                    --jp-widgets-label-color: white;\n",
       "                    --jp-ui-font-color1: white;\n",
       "                    --jp-layout-color2: #454545;\n",
       "                    background-color: #383838;\n",
       "                }\n",
       "\n",
       "                .geemap-dark .jupyter-button {\n",
       "                    --jp-layout-color3: #383838;\n",
       "                }\n",
       "\n",
       "                .geemap-colab {\n",
       "                    background-color: var(--colab-primary-surface-color, white);\n",
       "                }\n",
       "\n",
       "                .geemap-colab .jupyter-button {\n",
       "                    --jp-layout-color3: var(--colab-primary-surface-color, white);\n",
       "                }\n",
       "            </style>\n",
       "            "
      ],
      "text/plain": [
       "<IPython.core.display.HTML object>"
      ]
     },
     "metadata": {},
     "output_type": "display_data"
    },
    {
     "data": {
      "application/vnd.jupyter.widget-view+json": {
       "model_id": "8ee02bba49f64a918da605ef2dbe8be4",
       "version_major": 2,
       "version_minor": 0
      },
      "text/plain": [
       "GridspecLayout(children=(Output(layout=Layout(grid_area='widget001')), Output(layout=Layout(grid_area='widget0…"
      ]
     },
     "metadata": {},
     "output_type": "display_data"
    }
   ],
   "source": [
    "\n",
    "vis_params = [\n",
    "    {'bands':['SR_B4','SR_B3','SR_B2'],'min':0,'max':0.3},\n",
    "    {'bands':['SR_B5','SR_B4','SR_B3'],'min':0,'max':0.3},\n",
    "    {'bands':['SR_B7','SR_B6','SR_B4'],'min':0,'max':0.3},\n",
    "    {'bands':['SR_B6','SR_B5','SR_B2'],'min':0,'max':0.3},\n",
    "]\n",
    "\n",
    "labels = [\n",
    "    'Natural Color (4,3,2)',\n",
    "    'Color Infrared (5,4,3)',\n",
    "    'Shortwave Infrared (7,6,4)',\n",
    "    'Agriculture (6,5,2)',\n",
    "]\n",
    "\n",
    "geemap.linked_maps(\n",
    "    rows=2,\n",
    "    columns=2,\n",
    "    height='400px',\n",
    "    center=[-3.4653,-62.2159],\n",
    "    zoom=4,\n",
    "    ee_objects=[dataset],\n",
    "    vis_params=vis_params,\n",
    "    labels=labels,\n",
    "    label_position='topright',\n",
    ")\n"
   ]
  },
  {
   "cell_type": "code",
   "execution_count": 51,
   "id": "1755bcc6-cd74-4da8-81fc-15734b89b9b2",
   "metadata": {
    "tags": []
   },
   "outputs": [
    {
     "data": {
      "text/html": [
       "\n",
       "            <style>\n",
       "                .geemap-dark {\n",
       "                    --jp-widgets-color: white;\n",
       "                    --jp-widgets-label-color: white;\n",
       "                    --jp-ui-font-color1: white;\n",
       "                    --jp-layout-color2: #454545;\n",
       "                    background-color: #383838;\n",
       "                }\n",
       "\n",
       "                .geemap-dark .jupyter-button {\n",
       "                    --jp-layout-color3: #383838;\n",
       "                }\n",
       "\n",
       "                .geemap-colab {\n",
       "                    background-color: var(--colab-primary-surface-color, white);\n",
       "                }\n",
       "\n",
       "                .geemap-colab .jupyter-button {\n",
       "                    --jp-layout-color3: var(--colab-primary-surface-color, white);\n",
       "                }\n",
       "            </style>\n",
       "            "
      ],
      "text/plain": [
       "<IPython.core.display.HTML object>"
      ]
     },
     "metadata": {},
     "output_type": "display_data"
    },
    {
     "name": "stdout",
     "output_type": "stream",
     "text": [
      "NLCD\n",
      "ESA_WorldCover\n",
      "ESRI_LandCover\n",
      "ESRI_LandCover_TS\n",
      "Dynamic_World\n",
      "NWI\n",
      "MODIS/051/MCD12Q1\n",
      "MODIS/006/MCD12Q1\n",
      "GLOBCOVER\n",
      "JAXA/PALSAR\n",
      "Oxford\n",
      "AAFC/ACI\n",
      "COPERNICUS/CORINE/V20/100m\n",
      "COPERNICUS/Landcover/100m/Proba-V/Global\n",
      "USDA/NASS/CDL\n",
      "ALOS_landforms\n"
     ]
    },
    {
     "data": {
      "application/vnd.jupyter.widget-view+json": {
       "model_id": "9219a54f52814b83b300da1f7c141a1c",
       "version_major": 2,
       "version_minor": 0
      },
      "text/plain": [
       "Map(center=[38, -95], controls=(WidgetControl(options=['position', 'transparent_bg'], widget=SearchDataGUI(chi…"
      ]
     },
     "metadata": {},
     "output_type": "display_data"
    }
   ],
   "source": [
    "map2 = geemap.Map(center=(40,-100),zoom=4)\n",
    "# Import the NLCD collection.\n",
    "dataset = ee.ImageCollection('USGS/NLCD_RELEASES/2021_REL/NLCD')\n",
    "\n",
    "# The collection contains images for the 2021 year release and the full suite\n",
    "# of products.\n",
    "#print('Products:', dataset.aggregate_array('system:index'))\n",
    "\n",
    "# Filter the collection to the 2021 product.\n",
    "nlcd2021 = dataset.filter(ee.Filter.eq('system:index', '2021')).first()\n",
    "\n",
    "# Each product has multiple bands for describing aspects of land cover.\n",
    "#print('Bands:', nlcd2021.bandNames())\n",
    "\n",
    "# Select the land cover band.\n",
    "landcover = nlcd2021.select('landcover')\n",
    "\n",
    "# Get default legend for the dataset\n",
    "legends = geemap.builtin_legends\n",
    "for legend in legends:\n",
    "    print(legend)\n",
    "\n",
    "# Display land cover on the map.\n",
    "map2.setCenter(-95, 38, 5)\n",
    "map2.addLayer(landcover, None, 'Landcover')\n",
    "map2"
   ]
  },
  {
   "cell_type": "code",
   "execution_count": null,
   "id": "46c0e80f-b9ed-4cdb-ab90-04d3ac8c5452",
   "metadata": {},
   "outputs": [],
   "source": []
  }
 ],
 "metadata": {
  "kernelspec": {
   "display_name": "Python 3 (ipykernel)",
   "language": "python",
   "name": "python3"
  },
  "language_info": {
   "codemirror_mode": {
    "name": "ipython",
    "version": 3
   },
   "file_extension": ".py",
   "mimetype": "text/x-python",
   "name": "python",
   "nbconvert_exporter": "python",
   "pygments_lexer": "ipython3",
   "version": "3.11.7"
  }
 },
 "nbformat": 4,
 "nbformat_minor": 5
}
